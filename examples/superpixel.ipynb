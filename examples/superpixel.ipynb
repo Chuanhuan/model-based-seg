{
 "cells": [
  {
   "cell_type": "code",
   "execution_count": 1,
   "metadata": {},
   "outputs": [],
   "source": [
    "import sys\n",
    "sys.path.append(\"../model/clustering\")\n",
    "\n",
    "import cv2\n",
    "import numpy as np\n",
    "\n",
    "import matplotlib.pyplot as plt\n",
    "\n",
    "from superpixel import toboggan, Superpixel"
   ]
  },
  {
   "cell_type": "code",
   "execution_count": 2,
   "metadata": {},
   "outputs": [
    {
     "data": {
      "text/plain": [
       "<matplotlib.image.AxesImage at 0x127ebf8d0>"
      ]
     },
     "execution_count": 2,
     "metadata": {},
     "output_type": "execute_result"
    },
    {
     "data": {
      "image/png": "[encoded data removed]",
      "text/plain": [
       "<Figure size 432x288 with 1 Axes>"
      ]
     },
     "metadata": {
      "needs_background": "light"
     },
     "output_type": "display_data"
    }
   ],
   "source": [
    "# Load sample image\n",
    "imsample_gourd = cv2.imread(\"../asset/gourd.png\").astype(np.uint8)\n",
    "\n",
    "plt.imshow(imsample_gourd)"
   ]
  },
  {
   "cell_type": "code",
   "execution_count": null,
   "metadata": {},
   "outputs": [],
   "source": [
    "## Toboggan & Superpixel clustering\n",
    "\n",
    "# Get input dimensions\n",
    "image = imsample_gourd[..., 0]\n",
    "height, width = image.shape\n",
    "\n",
    "# Cluster image domain\n",
    "fragment = toboggan(image)\n",
    "fragment = 255*(fragment - fragment.min())/(fragment.max() - fragment.min())\n",
    "    \n",
    "# Define model\n",
    "model = Superpixel(sigma=32)\n",
    "\n",
    "# Run\n",
    "region = model.run(image)\n",
    "\n",
    "# Plot\n",
    "fig, axes = plt.subplots(nrows=1, ncols=3, figsize=(10, 10))\n",
    "axes[0].imshow(image, cmap=\"Greys\")\n",
    "axes[1].imshow(fragment, cmap=\"Greys\")\n",
    "axes[2].imshow(region, cmap=\"Greys\")\n",
    "\n",
    "axes[0].set_title(\"image\")\n",
    "axes[1].set_title(\"toboggan\")\n",
    "axes[2].set_title(\"superpixel\")"
   ]
  },
  {
   "cell_type": "code",
   "execution_count": null,
   "metadata": {},
   "outputs": [],
   "source": []
  },
  {
   "cell_type": "code",
   "execution_count": null,
   "metadata": {},
   "outputs": [],
   "source": []
  }
 ],
 "metadata": {
  "kernelspec": {
   "display_name": "Python 3",
   "language": "python",
   "name": "python3"
  },
  "language_info": {
   "codemirror_mode": {
    "name": "ipython",
    "version": 3
   },
   "file_extension": ".py",
   "mimetype": "text/x-python",
   "name": "python",
   "nbconvert_exporter": "python",
   "pygments_lexer": "ipython3",
   "version": "3.7.4"
  }
 },
 "nbformat": 4,
 "nbformat_minor": 5
}
